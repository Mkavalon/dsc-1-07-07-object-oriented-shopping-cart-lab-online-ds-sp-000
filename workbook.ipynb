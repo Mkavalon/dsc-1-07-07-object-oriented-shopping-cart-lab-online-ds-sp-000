{
 "cells": [
  {
   "cell_type": "code",
   "execution_count": 10,
   "metadata": {},
   "outputs": [],
   "source": [
    "class ShoppingCart:\n",
    "    # write your code here\n",
    "    def __init__(self, emp_discount=None):\n",
    "       self.total = 0\n",
    "       self.employee_discount = emp_discount\n",
    "       self.items = []\n",
    "    def add_item(self, name, price, quantity=1):\n",
    "        for i in list(range(quantity)):\n",
    "            self.items.append({\"name\": name, \"price\": price})\n",
    "            self.total += price\n",
    "        return self.items, self.total\n",
    "    def mean_item_price(self):\n",
    "        num_items = len(self.items)\n",
    "        total = self.total\n",
    "        mean = total/num_items\n",
    "        return  mean\n",
    "# added sort to median    \n",
    "    def median_item_price(self):\n",
    "        prices = [item[\"price\"] for item in self.items]\n",
    "        prices.sort()\n",
    "        length = len(prices)\n",
    "        \n",
    "        if (length%2 == 0):\n",
    "                    mid_one = int(length/2)\n",
    "                    mid_two = mid_one - 1\n",
    "                    median = (prices[mid_one] + prices[mid_two])/2\n",
    "                    return median\n",
    "        mid = int(length/2)\n",
    "        return prices[mid]\n",
    "    \n",
    "    def apply_discount(self):\n",
    "        if self.employee_discount:\n",
    "            discount = self.employee_discount/100\n",
    "            disc_total = self.total * (1 - discount)\n",
    "            return discount, disc_total\n",
    "        else:\n",
    "            return \"Sorry, there is no discount to apply to your cart :(\""
   ]
  },
  {
   "cell_type": "code",
   "execution_count": 11,
   "metadata": {},
   "outputs": [],
   "source": [
    "shopping_cart = ShoppingCart()"
   ]
  },
  {
   "cell_type": "code",
   "execution_count": 12,
   "metadata": {},
   "outputs": [
    {
     "data": {
      "text/plain": [
       "([{'name': 'rainbow sandals', 'price': 45.99}], 45.99)"
      ]
     },
     "execution_count": 12,
     "metadata": {},
     "output_type": "execute_result"
    }
   ],
   "source": [
    "shopping_cart.add_item(\"rainbow sandals\", 45.99) # 45.99"
   ]
  },
  {
   "cell_type": "code",
   "execution_count": 13,
   "metadata": {},
   "outputs": [
    {
     "data": {
      "text/plain": [
       "([{'name': 'rainbow sandals', 'price': 45.99},\n",
       "  {'name': 'agyle socks', 'price': 10.5}],\n",
       " 56.49)"
      ]
     },
     "execution_count": 13,
     "metadata": {},
     "output_type": "execute_result"
    }
   ],
   "source": [
    "shopping_cart.add_item(\"agyle socks\", 10.50) # 56.49"
   ]
  },
  {
   "cell_type": "code",
   "execution_count": 14,
   "metadata": {},
   "outputs": [
    {
     "data": {
      "text/plain": [
       "([{'name': 'rainbow sandals', 'price': 45.99},\n",
       "  {'name': 'agyle socks', 'price': 10.5},\n",
       "  {'name': 'jeans', 'price': 50.0},\n",
       "  {'name': 'jeans', 'price': 50.0},\n",
       "  {'name': 'jeans', 'price': 50.0}],\n",
       " 206.49)"
      ]
     },
     "execution_count": 14,
     "metadata": {},
     "output_type": "execute_result"
    }
   ],
   "source": [
    "shopping_cart.add_item(\"jeans\", 50.00, 3) # 206.49"
   ]
  },
  {
   "cell_type": "code",
   "execution_count": 15,
   "metadata": {},
   "outputs": [
    {
     "data": {
      "text/plain": [
       "([{'name': 'rainbow sandals', 'price': 45.99},\n",
       "  {'name': 'agyle socks', 'price': 10.5},\n",
       "  {'name': 'jeans', 'price': 50.0},\n",
       "  {'name': 'jeans', 'price': 50.0},\n",
       "  {'name': 'jeans', 'price': 50.0},\n",
       "  {'name': 'blouse', 'price': 35.0}],\n",
       " 241.49)"
      ]
     },
     "execution_count": 15,
     "metadata": {},
     "output_type": "execute_result"
    }
   ],
   "source": [
    "shopping_cart.add_item(\"blouse\", 35.00) # 206.49"
   ]
  },
  {
   "cell_type": "code",
   "execution_count": 16,
   "metadata": {},
   "outputs": [
    {
     "data": {
      "text/plain": [
       "40.248333333333335"
      ]
     },
     "execution_count": 16,
     "metadata": {},
     "output_type": "execute_result"
    }
   ],
   "source": [
    "shopping_cart.mean_item_price() # 41.29"
   ]
  },
  {
   "cell_type": "code",
   "execution_count": 9,
   "metadata": {},
   "outputs": [
    {
     "name": "stdout",
     "output_type": "stream",
     "text": [
      "47.995000000000005\n"
     ]
    }
   ],
   "source": [
    "print(shopping_cart.median_item_price()) # 50.00\n"
   ]
  },
  {
   "cell_type": "code",
   "execution_count": 19,
   "metadata": {},
   "outputs": [
    {
     "name": "stdout",
     "output_type": "stream",
     "text": [
      "([{'name': 'rainbow sandals', 'price': 45.0}], 45.0)\n",
      "([{'name': 'rainbow sandals', 'price': 45.0}, {'name': 'agyle socks', 'price': 15.0}], 60.0)\n",
      "(0.2, 48.0)\n",
      "([{'name': 'rainbow sandals', 'price': 45.0}, {'name': 'agyle socks', 'price': 15.0}, {'name': 'macbook air', 'price': 1000.0}], 1060.0)\n",
      "(0.2, 848.0)\n",
      "Sorry, there is no discount to apply to your cart :(\n"
     ]
    }
   ],
   "source": [
    "discount_shopping_cart = ShoppingCart(20)\n",
    "print(discount_shopping_cart.add_item(\"rainbow sandals\", 45.00)) # 45.00\n",
    "print(discount_shopping_cart.add_item(\"agyle socks\", 15.00)) # 60.00\n",
    "print(discount_shopping_cart.apply_discount()) # 48.00\n",
    "print(discount_shopping_cart.add_item(\"macbook air\", 1000.00)) # 1060.00\n",
    "print(discount_shopping_cart.apply_discount()) # 848.00\n",
    "print(shopping_cart.apply_discount()) # Sorry, there is no discount to apply to your cart :("
   ]
  },
  {
   "cell_type": "code",
   "execution_count": null,
   "metadata": {},
   "outputs": [],
   "source": []
  }
 ],
 "metadata": {
  "kernelspec": {
   "display_name": "learn-env",
   "language": "python",
   "name": "learn-env"
  },
  "language_info": {
   "codemirror_mode": {
    "name": "ipython",
    "version": 3
   },
   "file_extension": ".py",
   "mimetype": "text/x-python",
   "name": "python",
   "nbconvert_exporter": "python",
   "pygments_lexer": "ipython3",
   "version": "3.7.0"
  }
 },
 "nbformat": 4,
 "nbformat_minor": 2
}
